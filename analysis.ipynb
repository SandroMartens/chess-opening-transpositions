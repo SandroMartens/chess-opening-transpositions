{
 "cells": [
  {
   "cell_type": "code",
   "execution_count": 48,
   "metadata": {},
   "outputs": [],
   "source": [
    "import pandas as pd\n",
    "import chess.pgn\n",
    "from tqdm import tqdm\n",
    "from numpy import int32\n",
    "import io\n",
    "from collections.abc import Iterable\n"
   ]
  },
  {
   "cell_type": "code",
   "execution_count": 49,
   "metadata": {},
   "outputs": [],
   "source": [
    "def load_opening_data() -> pd.DataFrame:\n",
    "    \"\"\"Return a dataframe with the opening data. All openings have a position and a name. Data is downloaded from https://github.com/lichess-org/chess-openings.\"\"\"\n",
    "    eco_a = pd.read_csv(\"files/a.tsv\", sep=\"\\t\", index_col=\"epd\")\n",
    "    eco_b = pd.read_csv(\"files/b.tsv\", sep=\"\\t\", index_col=\"epd\")\n",
    "    eco_c = pd.read_csv(\"files/c.tsv\", sep=\"\\t\", index_col=\"epd\")\n",
    "    eco_d = pd.read_csv(\"files/d.tsv\", sep=\"\\t\", index_col=\"epd\")\n",
    "    eco_e = pd.read_csv(\"files/e.tsv\", sep=\"\\t\", index_col=\"epd\")\n",
    "    starting_position = pd.DataFrame.from_dict(\n",
    "        data={\n",
    "            \"name\": [\"Start\"],\n",
    "            \"epd\": [\"rnbqkbnr/pppppppp/8/8/8/8/PPPPPPPP/RNBQKBNR w KQkq -\"],\n",
    "            \"pgn\": None,\n",
    "            \"eco\": None,\n",
    "        },\n",
    "        orient=\"columns\",\n",
    "    ).set_index(\"epd\")\n",
    "\n",
    "    openings = pd.concat([eco_a, eco_b, eco_c, eco_d, eco_e, starting_position]).drop(\n",
    "        columns=[\"uci\"]\n",
    "    )\n",
    "\n",
    "    # Rename position after 1. d4 d5 to get some differentiating to other 1. d4 openings\n",
    "    openings.loc[\n",
    "        \"rnbqkbnr/ppp1pppp/8/3p4/3P4/8/PPP1PPPP/RNBQKBNR w KQkq -\", \"name\"\n",
    "    ] = \"Closed Game\"\n",
    "\n",
    "    return openings\n"
   ]
  },
  {
   "cell_type": "code",
   "execution_count": 50,
   "metadata": {},
   "outputs": [],
   "source": [
    "def load_games(filename: str) -> Iterable[chess.pgn.Game]:\n",
    "    \"\"\"Load n games from the pgn file and return them as a list\"\"\"\n",
    "    with open(filename) as pgn_file:\n",
    "        #  Downloaded from: https://database.nikonoel.fr/\n",
    "        games = []\n",
    "        while True:\n",
    "            game = chess.pgn.read_game(pgn_file)\n",
    "            if game is not None:\n",
    "                # Game == None when the end of the file is reached\n",
    "                yield game\n",
    "\n",
    "            else:\n",
    "                break\n",
    "\n",
    "\n",
    "def get_positions(games: Iterable[chess.pgn.Game], n_games: int) -> pd.DataFrame:\n",
    "    \"\"\"Get epd positions from the first 15 moves of all games\"\"\"\n",
    "    games_positions = []\n",
    "    for i in tqdm(range(n_games), desc=\"Extracting positions\", unit=\" games\"):\n",
    "        try:\n",
    "            game = next(games)\n",
    "            positions = []\n",
    "            main_line = list(game.mainline())\n",
    "            for ply in range(30):\n",
    "                # Get first 15 Moves = 30 half moves\n",
    "                try:\n",
    "                    move = main_line[ply]\n",
    "                    board = move.board()\n",
    "                    positions.append(board.epd())\n",
    "                except:\n",
    "                    break\n",
    "            games_positions.append(positions)\n",
    "        except:\n",
    "            break\n",
    "    return pd.DataFrame(games_positions)\n"
   ]
  },
  {
   "cell_type": "code",
   "execution_count": 61,
   "metadata": {},
   "outputs": [],
   "source": [
    "def get_opening_name(epd: str, openings) -> str:\n",
    "    \"\"\"Return opening name from epd, if exists.\"\"\"\n",
    "    if epd in openings.index:\n",
    "        return openings.loc[epd, \"name\"]\n",
    "    else:\n",
    "        return None\n",
    "\n",
    "\n",
    "def get_adjacency_matrix(\n",
    "    positions: pd.DataFrame, openings: pd.DataFrame\n",
    ") -> pd.DataFrame:\n",
    "    \"\"\"Iterate over all moves in all games. If a transposition of named openings is found, add 1 to the adjacency matrix between the two openings\"\"\"\n",
    "    unique_names = openings.name.drop_duplicates()\n",
    "    adjacency_matrix = pd.DataFrame(\n",
    "        data=0, index=unique_names, columns=unique_names, dtype=int32\n",
    "    )\n",
    "\n",
    "    for game in tqdm(range(positions.shape[0]), desc=\"Analyzing games\", unit=\" games\"):\n",
    "        last_opening_name = \"Start\"\n",
    "        for ply in range(positions.shape[1]):\n",
    "            epd = positions.iloc[game, ply]\n",
    "            new_opening_name = get_opening_name(epd, openings)\n",
    "            if new_opening_name != None and new_opening_name != last_opening_name:\n",
    "                adjacency_matrix.loc[last_opening_name, new_opening_name] += 1\n",
    "                last_opening_name = new_opening_name\n",
    "\n",
    "    adjacency_matrix = remove_non_reached_nodes(adjacency_matrix)\n",
    "\n",
    "    return adjacency_matrix\n",
    "\n",
    "\n",
    "def remove_non_reached_nodes(adjacency_matrix: pd.DataFrame) -> pd.DataFrame:\n",
    "    \"\"\"Remove variations that were not reached. An opening was not reached if it has no incoming edges.\"\"\"\n",
    "    # axis=1 for outgoing edges\n",
    "    # axis=0 for incoming edges\n",
    "    connected_nodes = adjacency_matrix.loc[(adjacency_matrix != 0).any(axis=0)].index\n",
    "    adjacency_matrix = adjacency_matrix.loc[connected_nodes, connected_nodes]\n",
    "\n",
    "    return adjacency_matrix\n",
    "\n",
    "\n",
    "def find_longest_variation(openings) -> int:\n",
    "    \"\"\"Find longest named opening variation\"\"\"\n",
    "    len_max = 0\n",
    "    for pgn in openings.pgn:\n",
    "        game = chess.pgn.read_game(io.StringIO(pgn))\n",
    "        if game is not None:\n",
    "            len_mainline = len(list(game.mainline_moves()))\n",
    "            if len_mainline > len_max:\n",
    "                len_max = len_mainline\n",
    "    return len_max\n",
    "\n",
    "\n",
    "def save_results(adjacency_matrix: pd.DataFrame, n_games: int) -> None:\n",
    "    \"\"\"Save adjacency matrix and number of occurrences of each position to csv file\"\"\"\n",
    "    adjacency_matrix.to_csv(f\"results/adjacency_matrix_{n_games}.csv\")\n",
    "    occurrences = adjacency_matrix.sum(axis=0)\n",
    "    occurrences.to_csv(\n",
    "        f\"results/occurrences_{n_games}.csv\", index_label=\"Id\", header=[\"Occurrences\"]\n",
    "    )\n"
   ]
  },
  {
   "cell_type": "code",
   "execution_count": 52,
   "metadata": {},
   "outputs": [
    {
     "name": "stdout",
     "output_type": "stream",
     "text": [
      "Longest line: 36 halfmoves\n"
     ]
    }
   ],
   "source": [
    "n_games = 400000\n",
    "filename = \"files/lichess_elite_2022-04.pgn\"\n",
    "openings = load_opening_data()\n",
    "print(f\"Longest line: {find_longest_variation(openings)} halfmoves\")\n"
   ]
  },
  {
   "cell_type": "code",
   "execution_count": 62,
   "metadata": {},
   "outputs": [],
   "source": [
    "games = load_games(filename)\n",
    "positions = get_positions(games, n_games)\n",
    "adjacency_matrix = get_adjacency_matrix(positions, openings)\n",
    "save_results(adjacency_matrix, n_games)\n"
   ]
  }
 ],
 "metadata": {
  "kernelspec": {
   "display_name": "Python 3.9.12 ('base')",
   "language": "python",
   "name": "python3"
  },
  "language_info": {
   "codemirror_mode": {
    "name": "ipython",
    "version": 3
   },
   "file_extension": ".py",
   "mimetype": "text/x-python",
   "name": "python",
   "nbconvert_exporter": "python",
   "pygments_lexer": "ipython3",
   "version": "3.9.12"
  },
  "orig_nbformat": 4,
  "vscode": {
   "interpreter": {
    "hash": "3247f7d4635bb288d9e06d3deacee818856115b2677ccfdf5a578edab993fe5f"
   }
  }
 },
 "nbformat": 4,
 "nbformat_minor": 2
}
