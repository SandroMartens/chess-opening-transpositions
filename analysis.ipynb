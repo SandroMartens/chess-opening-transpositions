{
 "cells": [
  {
   "cell_type": "code",
   "execution_count": 1,
   "metadata": {},
   "outputs": [],
   "source": [
    "import pandas as pd\n",
    "import chess.pgn\n",
    "from tqdm import tqdm\n",
    "from numpy import int32\n"
   ]
  },
  {
   "cell_type": "code",
   "execution_count": 2,
   "metadata": {},
   "outputs": [],
   "source": [
    "def load_opening_data() -> pd.DataFrame:\n",
    "    eco_a = pd.read_csv(\"files/a.tsv\", sep=\"\\t\", index_col=\"epd\")\n",
    "    eco_b = pd.read_csv(\"files/b.tsv\", sep=\"\\t\", index_col=\"epd\")\n",
    "    eco_c = pd.read_csv(\"files/c.tsv\", sep=\"\\t\", index_col=\"epd\")\n",
    "    eco_d = pd.read_csv(\"files/d.tsv\", sep=\"\\t\", index_col=\"epd\")\n",
    "    eco_e = pd.read_csv(\"files/e.tsv\", sep=\"\\t\", index_col=\"epd\")\n",
    "    starting_position = pd.DataFrame.from_dict(\n",
    "        data={\n",
    "            \"name\": [\"Start\"],\n",
    "            \"epd\": [\"rnbqkbnr/pppppppp/8/8/8/8/PPPPPPPP/RNBQKBNR w KQkq -\"],\n",
    "            \"pgn\": None,\n",
    "            \"eco\": None,\n",
    "        },\n",
    "        orient=\"columns\",\n",
    "    ).set_index(\"epd\")\n",
    "\n",
    "    openings = pd.concat([eco_a, eco_b, eco_c, eco_d, eco_e, starting_position]).drop(\n",
    "        columns=[\"uci\"]\n",
    "    )\n",
    "\n",
    "    return openings\n"
   ]
  },
  {
   "cell_type": "code",
   "execution_count": 19,
   "metadata": {},
   "outputs": [],
   "source": [
    "def load_games(n_games: int) -> list[chess.pgn.Game]:\n",
    "    \"\"\"Load n games from the pgn file and return them as a list\"\"\"\n",
    "    with open(\"files\\lichess_elite_2022-04.pgn\") as pgn_file:\n",
    "        games = []\n",
    "        for i in tqdm(range(n_games), desc=\"Loading games\"):\n",
    "            game = chess.pgn.read_game(pgn_file)\n",
    "            if game is not None:\n",
    "                games.append(game)\n",
    "            else:\n",
    "                break\n",
    "\n",
    "    return games\n",
    "\n",
    "\n",
    "def get_positions(games: list[chess.pgn.Game]) -> pd.DataFrame:\n",
    "    \"\"\"Get epd positions from the first 15 moves of all games\"\"\"\n",
    "    games_positions = []\n",
    "    for game in tqdm(games, desc=\"Extracting positions\"):\n",
    "        positions = []\n",
    "        main_line = list(game.mainline())\n",
    "        for i in range(30):\n",
    "            # Get first 15 Moves\n",
    "            try:\n",
    "                move = main_line[i]\n",
    "                board = move.board()\n",
    "                positions.append(board.epd())\n",
    "            except:\n",
    "                break\n",
    "        games_positions.append(positions)\n",
    "    return pd.DataFrame(games_positions)\n"
   ]
  },
  {
   "cell_type": "code",
   "execution_count": 4,
   "metadata": {},
   "outputs": [],
   "source": [
    "def get_opening_name(epd: str, openings) -> str:\n",
    "    \"\"\"Return opening name from epd, if exists.\"\"\"\n",
    "    if epd in openings.index:\n",
    "        return openings.loc[epd, \"name\"]\n",
    "    else:\n",
    "        return None\n",
    "\n",
    "\n",
    "def fill_adjacency_matrix(\n",
    "    positions: pd.DataFrame, openings: pd.DataFrame, adjacency_matrix: pd.DataFrame\n",
    ") -> pd.DataFrame:\n",
    "    \"\"\"Iterate over all moves in all games. If a transposition of named openings is found, add 1 to the adjacency matrix between the two openings\"\"\"\n",
    "    for game in tqdm(range(positions.shape[0]), desc=\"Analyzing games\"):\n",
    "        last_opening_name = \"Start\"\n",
    "        for ply in range(positions.shape[1]):\n",
    "            epd = positions.iloc[game, ply]\n",
    "            new_opening_name = get_opening_name(epd, openings)\n",
    "            if new_opening_name != None and new_opening_name != last_opening_name:\n",
    "                adjacency_matrix.loc[last_opening_name, new_opening_name] += 1\n",
    "                last_opening_name = new_opening_name\n",
    "\n",
    "    adjacency_matrix = remove_non_connected_nodes(adjacency_matrix)\n",
    "\n",
    "    return adjacency_matrix\n",
    "\n",
    "\n",
    "def remove_non_connected_nodes(adjacency_matrix: pd.DataFrame) -> pd.DataFrame:\n",
    "    \"\"\"Remove nodes that dont have incoming edges\"\"\"\n",
    "    # axus=1 for outgoing edges\n",
    "    # axis=0 for incoming edges\n",
    "    conected_nodes = adjacency_matrix.loc[(adjacency_matrix != 0).any(axis=0)].index\n",
    "    adjacency_matrix = adjacency_matrix.loc[conected_nodes, conected_nodes]\n",
    "\n",
    "    return adjacency_matrix\n"
   ]
  },
  {
   "cell_type": "code",
   "execution_count": 5,
   "metadata": {},
   "outputs": [
    {
     "name": "stderr",
     "output_type": "stream",
     "text": [
      "Loading games: 100%|██████████| 10000/10000 [00:27<00:00, 362.82it/s]\n",
      "Extracting positions: 100%|██████████| 10000/10000 [00:59<00:00, 168.78it/s]\n",
      "Analyzing games: 100%|██████████| 10000/10000 [00:09<00:00, 1009.26it/s]\n"
     ]
    }
   ],
   "source": [
    "n_games = 10000\n",
    "openings = load_opening_data()\n",
    "adjacency_matrix = pd.DataFrame(\n",
    "    0,\n",
    "    index=openings.name.drop_duplicates(),\n",
    "    columns=openings.name.drop_duplicates(),\n",
    "    dtype=int32,\n",
    ")\n",
    "games = load_games(n_games=n_games)\n",
    "positions = get_positions(games)\n",
    "adjacency_matrix = fill_adjacency_matrix(positions, openings, adjacency_matrix)\n"
   ]
  },
  {
   "cell_type": "code",
   "execution_count": 6,
   "metadata": {},
   "outputs": [],
   "source": [
    "# adjacency_matrix.to_csv(\"files/adjacency_matrix_100000.csv\")\n",
    "# occurences = adjacency_matrix.sum(axis=1)\n",
    "# occurences.to_csv(\"files/occurences_100000.csv\", index_label=\"Id\")\n"
   ]
  }
 ],
 "metadata": {
  "kernelspec": {
   "display_name": "Python 3.9.12 ('base')",
   "language": "python",
   "name": "python3"
  },
  "language_info": {
   "codemirror_mode": {
    "name": "ipython",
    "version": 3
   },
   "file_extension": ".py",
   "mimetype": "text/x-python",
   "name": "python",
   "nbconvert_exporter": "python",
   "pygments_lexer": "ipython3",
   "version": "3.9.12"
  },
  "orig_nbformat": 4,
  "vscode": {
   "interpreter": {
    "hash": "3247f7d4635bb288d9e06d3deacee818856115b2677ccfdf5a578edab993fe5f"
   }
  }
 },
 "nbformat": 4,
 "nbformat_minor": 2
}
